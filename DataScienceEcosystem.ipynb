{
 "cells": [
  {
   "cell_type": "markdown",
   "id": "759b158f-7893-4ece-9c92-df65524b576b",
   "metadata": {},
   "source": [
    "# Data Science Tools and Ecosystem"
   ]
  },
  {
   "cell_type": "markdown",
   "id": "eb9733b3-882d-4a9c-8ffd-a06e2186f47b",
   "metadata": {},
   "source": [
    "#### In this notebook, Data Science Tools and Ecosystem are summarized.\n",
    "**Objectives**\n",
    "* List popular languages that Data Scientists used\n",
    "* List commonly used libararies by Data Scientists\n",
    "* Be able to evaluate simple arithmetic operation\n",
    "* Be able to convert hours to minutes"
   ]
  },
  {
   "cell_type": "markdown",
   "id": "a6a14f33-3f62-4693-be84-eada382aa8d5",
   "metadata": {},
   "source": [
    "##### Some of the popular languages that Data Scientists use are:\n",
    "1. Python\n",
    "2. Scala\n",
    "3. Julia\n",
    "4. R\n",
    "5. SQL"
   ]
  },
  {
   "cell_type": "markdown",
   "id": "f841694f-7d30-4bc2-a8f2-fdd37a87a55c",
   "metadata": {},
   "source": [
    "##### Some of the commonly used libraries used by Data Scientists include:\n",
    "1. Numpy\n",
    "2. Matplotlib\n",
    "3. Pandas\n",
    "4. ggplot"
   ]
  },
  {
   "cell_type": "markdown",
   "id": "b9a3d913-a74f-4409-9d07-fbf7fb0ccd4f",
   "metadata": {},
   "source": [
    "|Data Science Tools|\n",
    "|------------------|\n",
    "|Jupyter Notebook|\n",
    "|RStudio|\n",
    "|VS Code|"
   ]
  },
  {
   "cell_type": "markdown",
   "id": "4cec64c3-d79f-4ccc-9edd-9b7c6eba52db",
   "metadata": {},
   "source": [
    "### Below are a few examples of evaluating arithmetic expression in Python"
   ]
  },
  {
   "cell_type": "code",
   "execution_count": 4,
   "id": "74489795-38bc-4515-bf81-816a9b11ef12",
   "metadata": {},
   "outputs": [
    {
     "data": {
      "text/plain": [
       "17"
      ]
     },
     "execution_count": 4,
     "metadata": {},
     "output_type": "execute_result"
    }
   ],
   "source": [
    "#This is a simple arithmetic expression to multiply then add integers\n",
    "(3*4)+5"
   ]
  },
  {
   "cell_type": "code",
   "execution_count": 13,
   "id": "eb9fec8a-4cbd-47c8-8c99-c270a69c96a7",
   "metadata": {},
   "outputs": [
    {
     "name": "stdout",
     "output_type": "stream",
     "text": [
      "3.3333333333333335 hr\n"
     ]
    }
   ],
   "source": [
    "#This will convert 200 minutes to hours by dividing to 60\n",
    "min_to_hr = 200/60\n",
    "print (min_to_hr, \"hr\")"
   ]
  },
  {
   "cell_type": "markdown",
   "id": "39efc594-26c6-4dd6-8969-84de6cfe330e",
   "metadata": {},
   "source": [
    "## Author\n",
    "Gilbert Chan"
   ]
  },
  {
   "cell_type": "code",
   "execution_count": null,
   "id": "175f4cba-4a0a-4824-921f-3a6dd50369b1",
   "metadata": {},
   "outputs": [],
   "source": []
  }
 ],
 "metadata": {
  "kernelspec": {
   "display_name": "Python [conda env:base] *",
   "language": "python",
   "name": "conda-base-py"
  },
  "language_info": {
   "codemirror_mode": {
    "name": "ipython",
    "version": 3
   },
   "file_extension": ".py",
   "mimetype": "text/x-python",
   "name": "python",
   "nbconvert_exporter": "python",
   "pygments_lexer": "ipython3",
   "version": "3.11.9"
  }
 },
 "nbformat": 4,
 "nbformat_minor": 5
}
